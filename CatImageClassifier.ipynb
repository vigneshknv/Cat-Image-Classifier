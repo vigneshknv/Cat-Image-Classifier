{
 "cells": [
  {
   "cell_type": "code",
   "execution_count": 1,
   "id": "a80af519",
   "metadata": {},
   "outputs": [],
   "source": [
    "import time\n",
    "import h5py\n",
    "import numpy as np\n",
    "import matplotlib.pyplot as plt\n",
    "import scipy\n",
    "from scipy import ndimage\n",
    "from PIL import Image\n",
    "from dnn_functions import *\n",
    "\n",
    "%matplotlib inline\n",
    "plt.rcParams['figure.figsize'] = (5.0,4.0)\n",
    "plt.rcParams['image.interpolation'] = 'nearest'\n",
    "plt.rcParams['image.cmap'] = 'gray'"
   ]
  },
  {
   "cell_type": "markdown",
   "id": "4ce76a37",
   "metadata": {},
   "source": [
    "### Loading the Data "
   ]
  },
  {
   "cell_type": "code",
   "execution_count": 2,
   "id": "7039432f",
   "metadata": {},
   "outputs": [
    {
     "name": "stdout",
     "output_type": "stream",
     "text": [
      "train_x_orig_shape: (209, 64, 64, 3)\n",
      "test_x_orig_shape : (50, 64, 64, 3)\n",
      "train_y_shape     : (209,)\n",
      "test_y_shape      : (50,)\n",
      "Classes           : [b'non-cat', b'cat']\n",
      "Image Size        : (64, 64, 3)\n"
     ]
    }
   ],
   "source": [
    "train = h5py.File('datasets/train_catvnoncat.h5', 'r')\n",
    "test = h5py.File('datasets/test_catvnoncat.h5', 'r')\n",
    "\n",
    "train_x_orig = np.array(train[\"train_set_x\"][:])\n",
    "test_x_orig  = np.array(test[\"test_set_x\"][:])\n",
    "train_y = np.array(train[\"train_set_y\"][:])\n",
    "test_y  = np.array(test[\"test_set_y\"][:])\n",
    "classes = np.array(train[\"list_classes\"][:])\n",
    "\n",
    "print(\"train_x_orig_shape: {}\".format(train_x_orig.shape))\n",
    "print(\"test_x_orig_shape : {}\".format(test_x_orig.shape))\n",
    "print(\"train_y_shape     : {}\".format(train_y.shape))\n",
    "print(\"test_y_shape      : {}\".format(test_y.shape))\n",
    "print(\"Classes           : {}\".format(classes.tolist()))\n",
    "print(\"Image Size        : {}\".format(train_x_orig.shape[1:4]))"
   ]
  },
  {
   "cell_type": "code",
   "execution_count": 3,
   "id": "23be5896",
   "metadata": {},
   "outputs": [
    {
     "name": "stdout",
     "output_type": "stream",
     "text": [
      "It is a cat picture\n"
     ]
    },
    {
     "data": {
      "image/png": "[encoded data removed]",
      "text/plain": [
       "<Figure size 360x288 with 1 Axes>"
      ]
     },
     "metadata": {
      "needs_background": "light"
     },
     "output_type": "display_data"
    }
   ],
   "source": [
    "index = 50\n",
    "plt.imshow(train_x_orig[index])\n",
    "print(\"It is a {} picture\".format(classes[train_y[index]].decode('utf-8')))"
   ]
  },
  {
   "cell_type": "markdown",
   "id": "41951bd5",
   "metadata": {},
   "source": [
    "### Data Preprocessing "
   ]
  },
  {
   "cell_type": "code",
   "execution_count": 4,
   "id": "40989071",
   "metadata": {
    "scrolled": true
   },
   "outputs": [
    {
     "name": "stdout",
     "output_type": "stream",
     "text": [
      "train_x_shape: (12288, 209)\n",
      "test_x_shape : (12288, 50)\n",
      "train_y_shape: (1, 209)\n",
      "test_y_shape : (1, 50)\n"
     ]
    }
   ],
   "source": [
    "# Reshapiing the data\n",
    "train_x_flatten = train_x_orig.reshape(train_x_orig.shape[0],-1).T\n",
    "test_x_flatten  = test_x_orig.reshape(test_x_orig.shape[0],-1).T\n",
    "train_y = train_y.reshape(1,train_y.shape[0])\n",
    "test_y  = test_y.reshape(1,test_y.shape[0])\n",
    "\n",
    "# Scaling the data\n",
    "# As the input is image, the maximum valie in the dataset will be 255\n",
    "train_x = train_x_flatten/255\n",
    "test_x  = test_x_flatten/255\n",
    "\n",
    "print(\"train_x_shape: {}\".format(train_x.shape))\n",
    "print(\"test_x_shape : {}\".format(test_x.shape))\n",
    "print(\"train_y_shape: {}\".format(train_y.shape))\n",
    "print(\"test_y_shape : {}\".format(test_y.shape))"
   ]
  },
  {
   "cell_type": "markdown",
   "id": "45ba5a85",
   "metadata": {},
   "source": [
    "### Training and Testing the Model "
   ]
  },
  {
   "cell_type": "code",
   "execution_count": 5,
   "id": "9f67c419",
   "metadata": {},
   "outputs": [],
   "source": [
    "def L_layer_model(X,Y,layers_dims,learning_rate=0.0075,num_iterations=3000,print_cost=False):\n",
    "    \n",
    "    costs = []\n",
    "    parameters = initialize_parameters_deep(layers_dims)\n",
    "    \n",
    "    for i in range(0,num_iterations):\n",
    "        \n",
    "        AL, caches = L_model_forward(X,parameters)\n",
    "        cost       = compute_cost(AL,Y)  \n",
    "        grads      = L_model_backward(AL,Y,caches)\n",
    "        parameters = update_parameters(parameters, grads, learning_rate)\n",
    "            \n",
    "        if print_cost and (i % 200 == 0 or i == num_iterations - 1):\n",
    "            print(\"Cost after iteration {}: {}\".format(i, np.squeeze(cost)))\n",
    "        if i % 100 == 0 or i == num_iterations:\n",
    "            costs.append(cost)\n",
    "        \n",
    "    return parameters, costs"
   ]
  },
  {
   "cell_type": "code",
   "execution_count": 6,
   "id": "5496d6c4",
   "metadata": {},
   "outputs": [],
   "source": [
    "layers_dims = [12288, 20, 7, 5, 1]\n",
    "learning_rates = [0.1,0.01,0.001,0.001]"
   ]
  },
  {
   "cell_type": "code",
   "execution_count": null,
   "id": "4530698f",
   "metadata": {},
   "outputs": [],
   "source": [
    "train_accuracies = []\n",
    "test_accuracies = []\n",
    "plt.figure(figsize=(15,14))\n",
    "\n",
    "for i,lr in enumerate(learning_rates):\n",
    "    parameters, costs = L_layer_model(train_x, train_y, layers_dims, lr, num_iterations=2500, print_cost=False)\n",
    "    \n",
    "    train_accuracy = accuracy(train_x,train_y,parameters)\n",
    "    test_accuracy  = accuracy(test_x,test_y,parameters)\n",
    "    train_accuracies.append(train_accuracy)\n",
    "    test_accuracies.append(test_accuracy)\n",
    "    \n",
    "    print(\"Train accuracy for learning rate {}: {}\".format(lr,train_accuracy))\n",
    "    print(\"Test accuracy for learning rate {}: {}\\n\".format(lr,test_accuracy))\n",
    "    \n",
    "    plt.subplot(3,2,i+1)\n",
    "    plt.plot(costs,color=\"r\")\n",
    "    plt.subplots_adjust(hspace=0.5, wspace=0.5)\n",
    "    plt.title(\"Learning rate = {}\".format(str(lr)))\n",
    "    plt.ylabel(\"cost\")\n",
    "\n",
    "plt.show()"
   ]
  },
  {
   "cell_type": "code",
   "execution_count": null,
   "id": "d18cad27",
   "metadata": {
    "scrolled": false
   },
   "outputs": [],
   "source": [
    "plt.figure(figsize=(15,4))\n",
    "\n",
    "plt.subplot(1,2,1)\n",
    "plt.plot(learning_rates, train_accuracies,color=\"r\")\n",
    "plt.title(\"Train Accuracy Vs. Learning Rate\")\n",
    "plt.xlabel(\"Learning rate\")\n",
    "plt.ylabel(\"Accuracy\")\n",
    "\n",
    "plt.subplot(1,2,2)\n",
    "plt.plot(learning_rates, test_accuracies, color=\"r\")\n",
    "plt.title(\"Test Accuracy Vs. Learning Rate\")\n",
    "plt.xlabel(\"Learning rate\")\n",
    "plt.ylabel(\"Accuracy\")\n",
    "\n",
    "plt.show()"
   ]
  },
  {
   "cell_type": "code",
   "execution_count": 7,
   "id": "918a5f6b",
   "metadata": {},
   "outputs": [
    {
     "name": "stdout",
     "output_type": "stream",
     "text": [
      "Cost after iteration 0: 0.7717493284237686\n",
      "Cost after iteration 200: 0.6388738671173996\n",
      "Cost after iteration 400: 0.5688271812027765\n",
      "Cost after iteration 600: 0.5084836067888392\n",
      "Cost after iteration 800: 0.3103980005754491\n",
      "Cost after iteration 1000: 0.20730930330849948\n",
      "Cost after iteration 1200: 0.11567032435733034\n",
      "Cost after iteration 1400: 0.08584462857591119\n",
      "Cost after iteration 1600: 0.067808819508068\n",
      "Cost after iteration 1800: 0.05205409767343472\n",
      "Cost after iteration 2000: 0.042258944535071216\n",
      "Cost after iteration 2200: 0.03473029997869357\n",
      "Cost after iteration 2400: 0.028787574070262143\n",
      "Cost after iteration 2499: 0.02666281261085066\n"
     ]
    }
   ],
   "source": [
    "# The model performance is better with learning_rate=0.01\n",
    "\n",
    "learning_rate = 0.01\n",
    "\n",
    "parameters, costs = L_layer_model(train_x, train_y, layers_dims, learning_rate, num_iterations=2500, print_cost=True)\n",
    "prediction = predict(test_x,parameters)"
   ]
  },
  {
   "cell_type": "markdown",
   "id": "cc06dcda",
   "metadata": {},
   "source": [
    "### Prediction "
   ]
  },
  {
   "cell_type": "code",
   "execution_count": 16,
   "id": "81c25d4c",
   "metadata": {},
   "outputs": [
    {
     "name": "stdout",
     "output_type": "stream",
     "text": [
      "(12288, 1)\n",
      "[[1.]]\n",
      "[[1.]]\n",
      "This is a cat image\n"
     ]
    },
    {
     "data": {
      "image/png": "[encoded data removed]",
      "text/plain": [
       "<Figure size 360x360 with 1 Axes>"
      ]
     },
     "metadata": {
      "needs_background": "light"
     },
     "output_type": "display_data"
    }
   ],
   "source": [
    "plt.figure(figsize=(5,5))\n",
    "\n",
    "img = Image.open('1.jpg')\n",
    "plt.imshow(img)\n",
    "\n",
    "img = np.array(img.resize((64,64))).reshape(1,-1).T\n",
    "print(img.shape)\n",
    "probs,class_prediction = predict(img,parameters)\n",
    "print(probs)\n",
    "print(class_prediction)\n",
    "\n",
    "print(\"This is a {} image\".format(classes[int(np.squeeze(class_prediction))].decode('utf-8')))\n"
   ]
  },
  {
   "cell_type": "markdown",
   "id": "dd60fb7f",
   "metadata": {},
   "source": [
    "### Result Analysis"
   ]
  },
  {
   "cell_type": "code",
   "execution_count": null,
   "id": "13d99a67",
   "metadata": {},
   "outputs": [],
   "source": [
    "print_mislabelled_images(classes,test_x,test_y,prediction)"
   ]
  },
  {
   "cell_type": "markdown",
   "id": "a890b4d9",
   "metadata": {},
   "source": [
    "**A few types of images the model tends to do poorly on include:** \n",
    "- Cat body in an unusual position\n",
    "- Cat appears against a background of a similar color\n",
    "- Unusual cat color and species\n",
    "- Camera Angle\n",
    "- Brightness of the picture\n",
    "- Scale variation (cat is very large or small in image) "
   ]
  },
  {
   "cell_type": "markdown",
   "id": "f8ae7c7b",
   "metadata": {},
   "source": [
    "### Exporting Parameters"
   ]
  },
  {
   "cell_type": "code",
   "execution_count": null,
   "id": "128785ac",
   "metadata": {},
   "outputs": [],
   "source": [
    "parameters"
   ]
  },
  {
   "cell_type": "code",
   "execution_count": null,
   "id": "a377e30c",
   "metadata": {},
   "outputs": [],
   "source": [
    "import pickle\n",
    "\n",
    "pickle.dump(parameters, open(\"parameters.pkl\", \"wb\"))"
   ]
  }
 ],
 "metadata": {
  "kernelspec": {
   "display_name": "Python 3 (ipykernel)",
   "language": "python",
   "name": "python3"
  },
  "language_info": {
   "codemirror_mode": {
    "name": "ipython",
    "version": 3
   },
   "file_extension": ".py",
   "mimetype": "text/x-python",
   "name": "python",
   "nbconvert_exporter": "python",
   "pygments_lexer": "ipython3",
   "version": "3.9.7"
  }
 },
 "nbformat": 4,
 "nbformat_minor": 5
}
